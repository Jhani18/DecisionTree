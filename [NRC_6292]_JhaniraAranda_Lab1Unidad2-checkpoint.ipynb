{
 "cells": [
  {
   "cell_type": "code",
   "execution_count": null,
   "id": "a58d63cd",
   "metadata": {},
   "outputs": [],
   "source": [
    "'''Se carga la librería que carga los datasets'''\n",
    "import pandas as pd\n",
    "'''Librería que forma el árbol de decisión'''\n",
    "from sklearn.tree import DecisionTreeClassifier\n",
    "'''Librería para hacer una sección de datos para el test(prueba)'''\n",
    "from sklearn.model_selection import train_test_split\n",
    "'''Librería para las métricas dentro del modelo'''\n",
    "from sklearn import metrics"
   ]
  },
  {
   "cell_type": "code",
   "execution_count": null,
   "id": "8ce16015",
   "metadata": {},
   "outputs": [],
   "source": [
    "'''Se carga el dataset'''\n",
    "pima = pd.read_csv(\"Dataset of Diabetes .csv\")\n",
    "'''Se muestra los encabezados de las columnas del dataset'''\n",
    "pima.head()"
   ]
  }
 ],
 "metadata": {
  "kernelspec": {
   "display_name": "Python 3 (ipykernel)",
   "language": "python",
   "name": "python3"
  },
  "language_info": {
   "codemirror_mode": {
    "name": "ipython",
    "version": 3
   },
   "file_extension": ".py",
   "mimetype": "text/x-python",
   "name": "python",
   "nbconvert_exporter": "python",
   "pygments_lexer": "ipython3",
   "version": "3.9.12"
  }
 },
 "nbformat": 4,
 "nbformat_minor": 5
}
