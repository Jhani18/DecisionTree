{
 "cells": [
  {
   "cell_type": "code",
   "execution_count": 1,
   "id": "a58d63cd",
   "metadata": {},
   "outputs": [],
   "source": [
    "'''Se carga la librería que carga los datasets'''\n",
    "import pandas as pd\n",
    "'''Librería que forma el árbol de decisión'''\n",
    "from sklearn.tree import DecisionTreeClassifier\n",
    "'''Librería para hacer una sección de datos para el test(prueba)'''\n",
    "from sklearn.model_selection import train_test_split\n",
    "'''Librería para las métricas dentro del modelo'''\n",
    "from sklearn import metrics"
   ]
  },
  {
   "cell_type": "code",
   "execution_count": 2,
   "id": "0c6adff8",
   "metadata": {},
   "outputs": [
    {
     "data": {
      "text/html": [
       "<div>\n",
       "<style scoped>\n",
       "    .dataframe tbody tr th:only-of-type {\n",
       "        vertical-align: middle;\n",
       "    }\n",
       "\n",
       "    .dataframe tbody tr th {\n",
       "        vertical-align: top;\n",
       "    }\n",
       "\n",
       "    .dataframe thead th {\n",
       "        text-align: right;\n",
       "    }\n",
       "</style>\n",
       "<table border=\"1\" class=\"dataframe\">\n",
       "  <thead>\n",
       "    <tr style=\"text-align: right;\">\n",
       "      <th></th>\n",
       "      <th>ID</th>\n",
       "      <th>No_Pation</th>\n",
       "      <th>Gender</th>\n",
       "      <th>AGE</th>\n",
       "      <th>Urea</th>\n",
       "      <th>Cr</th>\n",
       "      <th>HbA1c</th>\n",
       "      <th>Chol</th>\n",
       "      <th>TG</th>\n",
       "      <th>HDL</th>\n",
       "      <th>LDL</th>\n",
       "      <th>VLDL</th>\n",
       "      <th>BMI</th>\n",
       "      <th>CLASS</th>\n",
       "    </tr>\n",
       "  </thead>\n",
       "  <tbody>\n",
       "    <tr>\n",
       "      <th>0</th>\n",
       "      <td>502</td>\n",
       "      <td>17975</td>\n",
       "      <td>F</td>\n",
       "      <td>50</td>\n",
       "      <td>4.7</td>\n",
       "      <td>46</td>\n",
       "      <td>4.9</td>\n",
       "      <td>4.2</td>\n",
       "      <td>0.9</td>\n",
       "      <td>2.4</td>\n",
       "      <td>1.4</td>\n",
       "      <td>0.5</td>\n",
       "      <td>24.0</td>\n",
       "      <td>N</td>\n",
       "    </tr>\n",
       "    <tr>\n",
       "      <th>1</th>\n",
       "      <td>735</td>\n",
       "      <td>34221</td>\n",
       "      <td>M</td>\n",
       "      <td>26</td>\n",
       "      <td>4.5</td>\n",
       "      <td>62</td>\n",
       "      <td>4.9</td>\n",
       "      <td>3.7</td>\n",
       "      <td>1.4</td>\n",
       "      <td>1.1</td>\n",
       "      <td>2.1</td>\n",
       "      <td>0.6</td>\n",
       "      <td>23.0</td>\n",
       "      <td>N</td>\n",
       "    </tr>\n",
       "    <tr>\n",
       "      <th>2</th>\n",
       "      <td>420</td>\n",
       "      <td>47975</td>\n",
       "      <td>F</td>\n",
       "      <td>50</td>\n",
       "      <td>4.7</td>\n",
       "      <td>46</td>\n",
       "      <td>4.9</td>\n",
       "      <td>4.2</td>\n",
       "      <td>0.9</td>\n",
       "      <td>2.4</td>\n",
       "      <td>1.4</td>\n",
       "      <td>0.5</td>\n",
       "      <td>24.0</td>\n",
       "      <td>N</td>\n",
       "    </tr>\n",
       "    <tr>\n",
       "      <th>3</th>\n",
       "      <td>680</td>\n",
       "      <td>87656</td>\n",
       "      <td>F</td>\n",
       "      <td>50</td>\n",
       "      <td>4.7</td>\n",
       "      <td>46</td>\n",
       "      <td>4.9</td>\n",
       "      <td>4.2</td>\n",
       "      <td>0.9</td>\n",
       "      <td>2.4</td>\n",
       "      <td>1.4</td>\n",
       "      <td>0.5</td>\n",
       "      <td>24.0</td>\n",
       "      <td>N</td>\n",
       "    </tr>\n",
       "    <tr>\n",
       "      <th>4</th>\n",
       "      <td>504</td>\n",
       "      <td>34223</td>\n",
       "      <td>M</td>\n",
       "      <td>33</td>\n",
       "      <td>7.1</td>\n",
       "      <td>46</td>\n",
       "      <td>4.9</td>\n",
       "      <td>4.9</td>\n",
       "      <td>1.0</td>\n",
       "      <td>0.8</td>\n",
       "      <td>2.0</td>\n",
       "      <td>0.4</td>\n",
       "      <td>21.0</td>\n",
       "      <td>N</td>\n",
       "    </tr>\n",
       "  </tbody>\n",
       "</table>\n",
       "</div>"
      ],
      "text/plain": [
       "    ID  No_Pation Gender  AGE  Urea  Cr  HbA1c  Chol   TG  HDL  LDL  VLDL  \\\n",
       "0  502      17975      F   50   4.7  46    4.9   4.2  0.9  2.4  1.4   0.5   \n",
       "1  735      34221      M   26   4.5  62    4.9   3.7  1.4  1.1  2.1   0.6   \n",
       "2  420      47975      F   50   4.7  46    4.9   4.2  0.9  2.4  1.4   0.5   \n",
       "3  680      87656      F   50   4.7  46    4.9   4.2  0.9  2.4  1.4   0.5   \n",
       "4  504      34223      M   33   7.1  46    4.9   4.9  1.0  0.8  2.0   0.4   \n",
       "\n",
       "    BMI CLASS  \n",
       "0  24.0     N  \n",
       "1  23.0     N  \n",
       "2  24.0     N  \n",
       "3  24.0     N  \n",
       "4  21.0     N  "
      ]
     },
     "execution_count": 2,
     "metadata": {},
     "output_type": "execute_result"
    }
   ],
   "source": [
    "'''Se carga el dataset'''\n",
    "pima = pd.read_csv(\"Dataset of Diabetes .csv\")\n",
    "'''Se muestra los encabezados de las columnas del dataset'''\n",
    "pima.head()"
   ]
  },
  {
   "cell_type": "code",
   "execution_count": 3,
   "id": "90ba444f",
   "metadata": {},
   "outputs": [
    {
     "name": "stdout",
     "output_type": "stream",
     "text": [
      "      ID  No_Pation  Gender  AGE  Urea  Cr  HbA1c  Chol   TG  HDL  LDL  VLDL  \\\n",
      "0    502      17975       1   50   4.7  46    4.9   4.2  0.9  2.4  1.4   0.5   \n",
      "1    735      34221       0   26   4.5  62    4.9   3.7  1.4  1.1  2.1   0.6   \n",
      "2    420      47975       1   50   4.7  46    4.9   4.2  0.9  2.4  1.4   0.5   \n",
      "3    680      87656       1   50   4.7  46    4.9   4.2  0.9  2.4  1.4   0.5   \n",
      "4    504      34223       0   33   7.1  46    4.9   4.9  1.0  0.8  2.0   0.4   \n",
      "..   ...        ...     ...  ...   ...  ..    ...   ...  ...  ...  ...   ...   \n",
      "995  200     454317       0   71  11.0  97    7.0   7.5  1.7  1.2  1.8   0.6   \n",
      "996  671     876534       0   31   3.0  60   12.3   4.1  2.2  0.7  2.4  15.4   \n",
      "997  669      87654       0   30   7.1  81    6.7   4.1  1.1  1.2  2.4   8.1   \n",
      "998   99      24004       0   38   5.8  59    6.7   5.3  2.0  1.6  2.9  14.0   \n",
      "999  248      24054       0   54   5.0  67    6.9   3.8  1.7  1.1  3.0   0.7   \n",
      "\n",
      "      BMI CLASS  \n",
      "0    24.0     N  \n",
      "1    23.0     N  \n",
      "2    24.0     N  \n",
      "3    24.0     N  \n",
      "4    21.0     N  \n",
      "..    ...   ...  \n",
      "995  30.0     Y  \n",
      "996  37.2    Y   \n",
      "997  27.4    Y   \n",
      "998  40.5    Y   \n",
      "999  33.0    Y   \n",
      "\n",
      "[1000 rows x 14 columns]\n"
     ]
    }
   ],
   "source": [
    "'''Cambio de valores'''\n",
    "d1 = {'F': 1 , 'M': 0, 'f': 1}\n",
    "'''Asignación de valores númericos'''\n",
    "pima['Gender'] = pima['Gender'].map(d1)\n",
    "'''Impresión de la variable'''\n",
    "print(pima)"
   ]
  },
  {
   "cell_type": "code",
   "execution_count": 4,
   "id": "045291cb",
   "metadata": {},
   "outputs": [
    {
     "data": {
      "text/plain": [
       "ID           0\n",
       "No_Pation    0\n",
       "Gender       0\n",
       "AGE          0\n",
       "Urea         0\n",
       "Cr           0\n",
       "HbA1c        0\n",
       "Chol         0\n",
       "TG           0\n",
       "HDL          0\n",
       "LDL          0\n",
       "VLDL         0\n",
       "BMI          0\n",
       "CLASS        0\n",
       "dtype: int64"
      ]
     },
     "execution_count": 4,
     "metadata": {},
     "output_type": "execute_result"
    }
   ],
   "source": [
    "'''Suma de los valores nulos'''\n",
    "pima.isnull().sum()"
   ]
  },
  {
   "cell_type": "code",
   "execution_count": 5,
   "id": "4d2e2cd8",
   "metadata": {},
   "outputs": [
    {
     "name": "stdout",
     "output_type": "stream",
     "text": [
      "      ID  No_Pation  Gender  AGE  Urea  Cr  HbA1c  Chol   TG  HDL  LDL  VLDL  \\\n",
      "0    502      17975       1   50   4.7  46    4.9   4.2  0.9  2.4  1.4   0.5   \n",
      "1    735      34221       0   26   4.5  62    4.9   3.7  1.4  1.1  2.1   0.6   \n",
      "2    420      47975       1   50   4.7  46    4.9   4.2  0.9  2.4  1.4   0.5   \n",
      "3    680      87656       1   50   4.7  46    4.9   4.2  0.9  2.4  1.4   0.5   \n",
      "4    504      34223       0   33   7.1  46    4.9   4.9  1.0  0.8  2.0   0.4   \n",
      "..   ...        ...     ...  ...   ...  ..    ...   ...  ...  ...  ...   ...   \n",
      "995  200     454317       0   71  11.0  97    7.0   7.5  1.7  1.2  1.8   0.6   \n",
      "996  671     876534       0   31   3.0  60   12.3   4.1  2.2  0.7  2.4  15.4   \n",
      "997  669      87654       0   30   7.1  81    6.7   4.1  1.1  1.2  2.4   8.1   \n",
      "998   99      24004       0   38   5.8  59    6.7   5.3  2.0  1.6  2.9  14.0   \n",
      "999  248      24054       0   54   5.0  67    6.9   3.8  1.7  1.1  3.0   0.7   \n",
      "\n",
      "      BMI  CLASS  \n",
      "0    24.0      0  \n",
      "1    23.0      0  \n",
      "2    24.0      0  \n",
      "3    24.0      0  \n",
      "4    21.0      0  \n",
      "..    ...    ...  \n",
      "995  30.0      2  \n",
      "996  37.2      2  \n",
      "997  27.4      2  \n",
      "998  40.5      2  \n",
      "999  33.0      2  \n",
      "\n",
      "[1000 rows x 14 columns]\n"
     ]
    }
   ],
   "source": [
    "'''Cambio de letras por números'''\n",
    "d2 = {'N': 0, 'P': 1, 'Y': 2, 'Y ': 2, 'P ': 1, 'N ': 0}\n",
    "'''Asignación de la variable a la que se le cambiará los valores'''\n",
    "pima['CLASS'] = pima['CLASS'].map(d2)\n",
    "'''impresion de la variable'''\n",
    "print(pima)"
   ]
  },
  {
   "cell_type": "code",
   "execution_count": 6,
   "id": "7030cbf1",
   "metadata": {},
   "outputs": [
    {
     "data": {
      "text/plain": [
       "ID           0\n",
       "No_Pation    0\n",
       "Gender       0\n",
       "AGE          0\n",
       "Urea         0\n",
       "Cr           0\n",
       "HbA1c        0\n",
       "Chol         0\n",
       "TG           0\n",
       "HDL          0\n",
       "LDL          0\n",
       "VLDL         0\n",
       "BMI          0\n",
       "CLASS        0\n",
       "dtype: int64"
      ]
     },
     "execution_count": 6,
     "metadata": {},
     "output_type": "execute_result"
    }
   ],
   "source": [
    "'''Reimpresión de los valores nulos'''\n",
    "pima.isnull().sum()"
   ]
  },
  {
   "cell_type": "code",
   "execution_count": 7,
   "id": "8f335576",
   "metadata": {},
   "outputs": [],
   "source": [
    "'''Se determinan qué columnas influyen'''\n",
    "var_independientes = ['ID', 'No_Pation', 'Gender', 'AGE', 'Urea', 'Cr', 'HbA1c', 'Chol', 'TG', 'HDL', 'LDL', 'VLDL','BMI']\n",
    "'''Se determina cuán será la variable independiente'''\n",
    "X = pima[var_independientes] #Características\n",
    "'''Se escribe la variable dependiente'''\n",
    "y = pima.CLASS #etiqueta"
   ]
  },
  {
   "cell_type": "code",
   "execution_count": 8,
   "id": "64704f19",
   "metadata": {},
   "outputs": [],
   "source": [
    "'''Se clasifica los datos que serán de prueba y el estado aleatorio de los datos'''\n",
    "X_train, X_test, y_train, y_test = train_test_split(X, y, test_size=0.3, random_state=1)"
   ]
  },
  {
   "cell_type": "code",
   "execution_count": 9,
   "id": "92b3543b",
   "metadata": {},
   "outputs": [],
   "source": [
    "'''Se crea el árbol de decisión como un objeto'''\n",
    "clf = DecisionTreeClassifier()\n",
    "'''Se declara los datos que tendrá el árbol de decisión'''\n",
    "clf = clf.fit(X_train,y_train)\n",
    "'''Se crea la variable que almacenará los valores predecidos'''\n",
    "y_pred = clf.predict(X_test)"
   ]
  },
  {
   "cell_type": "code",
   "execution_count": 10,
   "id": "b79fec01",
   "metadata": {},
   "outputs": [
    {
     "name": "stdout",
     "output_type": "stream",
     "text": [
      "Accuracy: 0.9666666666666667\n"
     ]
    }
   ],
   "source": [
    "'''Se crea la métrica de la exactitud del modelo'''\n",
    "print(\"Accuracy:\", metrics.accuracy_score(y_test, y_pred))"
   ]
  },
  {
   "cell_type": "code",
   "execution_count": 11,
   "id": "73156432",
   "metadata": {},
   "outputs": [
    {
     "name": "stdout",
     "output_type": "stream",
     "text": [
      "Precisión:\n",
      " 0.9375661375661376\n"
     ]
    }
   ],
   "source": [
    "'''Métrica que ayuda a medir la precisión'''\n",
    "print(\"Precisión:\\n\", metrics.precision_score(y_test, y_pred, average = 'macro'))"
   ]
  },
  {
   "cell_type": "code",
   "execution_count": 12,
   "id": "49b15225",
   "metadata": {},
   "outputs": [
    {
     "name": "stdout",
     "output_type": "stream",
     "text": [
      "Recall:\n",
      "  0.9009589947089948\n"
     ]
    }
   ],
   "source": [
    "'''Metrica del '''\n",
    "print(\"Recall:\\n \", metrics.recall_score(y_test, y_pred, average = 'macro'))"
   ]
  },
  {
   "cell_type": "code",
   "execution_count": 13,
   "id": "3babfaa1",
   "metadata": {},
   "outputs": [],
   "source": [
    "'''Librería para graficar'''\n",
    "import matplotlib.pyplot as plt\n",
    "'''Librería para graficar las métricas'''\n",
    "from sklearn.metrics import accuracy_score, precision_score, confusion_matrix, ConfusionMatrixDisplay\n",
    "'''Librería para la métrica de la matriz de confusión'''\n",
    "from sklearn.metrics import plot_confusion_matrix"
   ]
  },
  {
   "cell_type": "code",
   "execution_count": 14,
   "id": "e2353bec",
   "metadata": {},
   "outputs": [
    {
     "name": "stderr",
     "output_type": "stream",
     "text": [
      "C:\\Users\\DELL\\anaconda3\\lib\\site-packages\\sklearn\\utils\\deprecation.py:87: FutureWarning: Function plot_confusion_matrix is deprecated; Function `plot_confusion_matrix` is deprecated in 1.0 and will be removed in 1.2. Use one of the class methods: ConfusionMatrixDisplay.from_predictions or ConfusionMatrixDisplay.from_estimator.\n",
      "  warnings.warn(msg, category=FutureWarning)\n"
     ]
    },
    {
     "data": {
      "image/png": "[encoded data removed]",
      "text/plain": [
       "<Figure size 432x288 with 2 Axes>"
      ]
     },
     "metadata": {
      "needs_background": "light"
     },
     "output_type": "display_data"
    }
   ],
   "source": [
    "plot_confusion_matrix(clf, X_test, y_test, cmap=plt.cm.Reds) \n",
    "plt.title(\"Matriz de confusion\") \n",
    "plt.show()"
   ]
  },
  {
   "cell_type": "markdown",
   "id": "c4c080f5",
   "metadata": {},
   "source": [
    "# Visualizing the tree\n",
    "\n",
    "We will plot the tree to see its root, branches, and nodes using the following functions:\n",
    "\n",
    "* **StringIO()**: creates an object (empty in this case) to receive a string buffer (the tree will be created first as a string before as an image) in DOT (graph description language) format.\n",
    "* **export_graphviz()**: this function exports the tree in DOT format, generating a representation of the decision tree, which is written into the ‘out_file’.\n",
    "* **graph_from_dot_data()**: will use the DOT object to create the graph.\n",
    "* **Image()**: uses raw data to return an image (png, jpeg, gif)."
   ]
  },
  {
   "cell_type": "code",
   "execution_count": 16,
   "id": "fc0ce650",
   "metadata": {},
   "outputs": [],
   "source": [
    "'''Librerías para graficar el árbol'''\n",
    "from sklearn.tree import export_graphviz\n",
    "'''Librería para los datos tipo String'''\n",
    "from six import StringIO \n",
    "'''Librería para las imágenes que se van a generar'''\n",
    "from IPython.display import Image  \n",
    "'''Librería para la visualización de los árboles de decisión'''\n",
    "import pydotplus"
   ]
  },
  {
   "cell_type": "code",
   "execution_count": null,
   "id": "d36c6ce8",
   "metadata": {},
   "outputs": [],
   "source": []
  }
 ],
 "metadata": {
  "kernelspec": {
   "display_name": "Python 3 (ipykernel)",
   "language": "python",
   "name": "python3"
  },
  "language_info": {
   "codemirror_mode": {
    "name": "ipython",
    "version": 3
   },
   "file_extension": ".py",
   "mimetype": "text/x-python",
   "name": "python",
   "nbconvert_exporter": "python",
   "pygments_lexer": "ipython3",
   "version": "3.9.12"
  }
 },
 "nbformat": 4,
 "nbformat_minor": 5
}
