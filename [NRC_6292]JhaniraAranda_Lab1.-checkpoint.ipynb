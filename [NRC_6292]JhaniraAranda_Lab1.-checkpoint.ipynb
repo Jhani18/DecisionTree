{
 "cells": [
  {
   "cell_type": "code",
   "execution_count": 33,
   "id": "17958edd",
   "metadata": {},
   "outputs": [],
   "source": [
    "'''Comenzamos por importar las librerías'''\n",
    "from sklearn import datasets\n",
    "'''La siguiente librería nos ayuda a dividir los datos en un\n",
    "conjunto para prueba y otro conjunto para test'''\n",
    "from sklearn.model_selection import train_test_split\n",
    "'''Librería que ayuda a formar conjuntos para el aprendizaje\n",
    "supervisado, su clasificación, regresión y detección \n",
    "de valores atípicos '''\n",
    "from sklearn import svm\n",
    "'''Librería usada para medir las métricas'''\n",
    "from sklearn import metrics\n",
    "'''Biblioteca que ayuda a hacer gráficas estadísticas'''\n",
    "import seaborn as sn\n",
    "'''Se importa la librería pandas que ayuda a amenjar \n",
    "y analizar las estructuras de datos'''\n",
    "import pandas as pd\n"
   ]
  },
  {
   "cell_type": "code",
   "execution_count": null,
   "id": "eb3f608c",
   "metadata": {},
   "outputs": [],
   "source": []
  },
  {
   "cell_type": "code",
   "execution_count": null,
   "id": "95024dfb",
   "metadata": {},
   "outputs": [],
   "source": []
  },
  {
   "cell_type": "code",
   "execution_count": null,
   "id": "9ca3fb44",
   "metadata": {},
   "outputs": [],
   "source": []
  },
  {
   "cell_type": "code",
   "execution_count": null,
   "id": "4f0bd935",
   "metadata": {},
   "outputs": [],
   "source": []
  },
  {
   "cell_type": "code",
   "execution_count": null,
   "id": "6fb1e019",
   "metadata": {},
   "outputs": [],
   "source": []
  },
  {
   "cell_type": "code",
   "execution_count": null,
   "id": "614b5f2e",
   "metadata": {},
   "outputs": [],
   "source": []
  },
  {
   "cell_type": "code",
   "execution_count": null,
   "id": "fd4d2e12",
   "metadata": {},
   "outputs": [],
   "source": []
  },
  {
   "cell_type": "code",
   "execution_count": null,
   "id": "e3f13ddd",
   "metadata": {},
   "outputs": [],
   "source": []
  },
  {
   "cell_type": "code",
   "execution_count": null,
   "id": "ac4006a8",
   "metadata": {},
   "outputs": [],
   "source": []
  },
  {
   "cell_type": "code",
   "execution_count": null,
   "id": "e7bd1d52",
   "metadata": {},
   "outputs": [],
   "source": []
  },
  {
   "cell_type": "code",
   "execution_count": null,
   "id": "0ec7b853",
   "metadata": {},
   "outputs": [],
   "source": []
  }
 ],
 "metadata": {
  "kernelspec": {
   "display_name": "Python 3 (ipykernel)",
   "language": "python",
   "name": "python3"
  },
  "language_info": {
   "codemirror_mode": {
    "name": "ipython",
    "version": 3
   },
   "file_extension": ".py",
   "mimetype": "text/x-python",
   "name": "python",
   "nbconvert_exporter": "python",
   "pygments_lexer": "ipython3",
   "version": "3.9.12"
  }
 },
 "nbformat": 4,
 "nbformat_minor": 5
}
